{
 "cells": [
  {
   "cell_type": "code",
   "execution_count": 1,
   "metadata": {
    "id": "400f14ba-4a6b-4fb4-9939-6df73c853337"
   },
   "outputs": [],
   "source": [
    "from ibm_watsonx_ai import Credentials\n",
    "from ibm_watsonx_ai.helpers import DataConnection, S3Location\n",
    "import ibm_boto3\n",
    "from ibm_watsonx_ai import APIClient\n",
    "from ibm_watsonx_ai.foundation_models.extractions import TextExtractions\n",
    "from ibm_watsonx_ai.metanames import TextExtractionsMetaNames\n",
    "import time"
   ]
  },
  {
   "cell_type": "code",
   "execution_count": 71,
   "metadata": {
    "id": "e0aa02f7-adcc-431f-a2b7-2939b2904373"
   },
   "outputs": [],
   "source": [
    "from ibm_watsonx_ai import APIClient\n",
    "\n",
    "credentials = {\n",
    "    \"apikey\": \"wx388gAQyq849mgWAd6Ph7eMXNXK_vomMbJMI_3zlXG9\",\n",
    "    \"url\": \"https://eu-de.ml.cloud.ibm.com\"\n",
    "}\n",
    "\n",
    "project_id = \"61249d5d-fa8e-4501-b6c4-8aa4156e48b0\"  # Replace with your actual Watsonx project ID\n",
    "\n",
    "wx_client = APIClient(credentials=credentials, project_id=project_id)\n"
   ]
  },
  {
   "cell_type": "code",
   "execution_count": 28,
   "metadata": {
    "id": "eba4d0ce-1f3a-456e-8929-cb1f669172a0"
   },
   "outputs": [],
   "source": [
    "connection_asset_id = \"0ef0fd193d1b4036a9662442f83e7638\"\n",
    "bucketname = \"textextraction-donotdelete-pr-nh2q6azrylxq1a\""
   ]
  },
  {
   "cell_type": "code",
   "execution_count": 41,
   "metadata": {
    "id": "bc0521d1-a6e5-4093-9c99-10ae5b05b239"
   },
   "outputs": [],
   "source": [
    "CloudObjectStorage_client = ibm_boto3.client(\n",
    "    service_name='s3',\n",
    "    aws_access_key_id='0ef0fd193d1b4036a9662442f83e7638',\n",
    "    aws_secret_access_key='96f5a65862b6845af03166691548d2adef4a80a8f7ba6081',\n",
    "    endpoint_url='https://s3.eu-de.cloud-object-storage.appdomain.cloud',  # You can change the region as needed\n",
    "    config=Config(signature_version='s3v4')\n",
    ")\n",
    "bucketname = \"textextraction-donotdelete-pr-nh2q6azrylxq1a\""
   ]
  },
  {
   "cell_type": "code",
   "execution_count": 42,
   "metadata": {
    "id": "a115be81-197f-446a-bcd1-86b8517446ae"
   },
   "outputs": [
    {
     "name": "stdout",
     "output_type": "stream",
     "text": [
      "asmitasarkarssandbox-donotdelete-pr-0hktbca5oiapso\n",
      "new-cloud-object-storage-cos-standard-7px\n",
      "textextraction-donotdelete-pr-nh2q6azrylxq1a\n",
      "wml2project-donotdelete-pr-nnyc9qn9fjwoik\n",
      "wmlproject-donotdelete-pr-qnbctnp93ye6kx\n"
     ]
    }
   ],
   "source": [
    "response = CloudObjectStorage_client.list_buckets()\n",
    "for bucket in response['Buckets']:\n",
    "    print(bucket['Name'])\n",
    "\n"
   ]
  },
  {
   "cell_type": "code",
   "execution_count": 63,
   "metadata": {
    "id": "8e5c1b25-09bf-4b94-9185-00d072f98ac3"
   },
   "outputs": [],
   "source": [
    "cos_credentials = {\n",
    "                \"endpoint_url\": \"https://s3.eu-de.cloud-object-storage.appdomain.cloud\",\n",
    "                \"apikey\": \"McNCj4qlk-AkkHZ9VwCZGTjz4sf-FI9eRZQnvvghA5B6\",\n",
    "                \"access_key_id\": \"0ef0fd193d1b4036a9662442f83e7638\",\n",
    "                \"secret_access_key\": \"96f5a65862b6845af03166691548d2adef4a80a8f7ba6081\"\n",
    "            }"
   ]
  },
  {
   "cell_type": "code",
   "execution_count": 64,
   "metadata": {
    "id": "8ec7f400-af06-4cf8-b437-864e6f088bc8"
   },
   "outputs": [],
   "source": [
    "conn_meta_props = {\n",
    "    client.connections.ConfigurationMetaNames.NAME: \"Connection to Database - bluemixcloudobjectstorage\",\n",
    "    client.connections.ConfigurationMetaNames.DATASOURCE_TYPE: client.connections.get_datasource_type_id_by_name(\"bluemixcloudobjectstorage\"),\n",
    "    client.connections.ConfigurationMetaNames.DESCRIPTION: \"Connection to external Database\",\n",
    "    client.connections.ConfigurationMetaNames.PROPERTIES: {\n",
    "        'bucket': bucketname,\n",
    "        'access_key': cos_credentials['access_key_id'],\n",
    "        'secret_key': cos_credentials['secret_access_key'],\n",
    "        'iam_url': 'https://iam.cloud.ibm.com/identity/token',\n",
    "        'url': cos_credentials['endpoint_url']\n",
    "    }\n",
    "}\n"
   ]
  },
  {
   "cell_type": "code",
   "execution_count": 65,
   "metadata": {
    "id": "649c95bd-be0f-4810-9353-5d46e2d75932"
   },
   "outputs": [
    {
     "name": "stdout",
     "output_type": "stream",
     "text": [
      "Creating connections...\n",
      "SUCCESS\n",
      "3f3139a1-c4fb-4ca5-81b1-26c651eebd5d\n"
     ]
    }
   ],
   "source": [
    "conn_details = client.connections.create(meta_props=conn_meta_props)\n",
    "connection_asset_id = client.connections.get_id(conn_details)\n",
    "print(connection_asset_id)"
   ]
  },
  {
   "cell_type": "code",
   "execution_count": 76,
   "metadata": {
    "id": "f82cb12b-452a-4e19-a171-d965b2c7a672"
   },
   "outputs": [],
   "source": [
    "def text_extraction(file_names, extraction, steps, results_path):\n",
    "    for source_file_name in file_names:\n",
    "        if source_file_name == '.DS_Store':\n",
    "            continue\n",
    "\n",
    "        results_file_name = \"text_extracted_\" + source_file_name.replace(\"pdf\", \"json\")\n",
    "\n",
    "        connection_asset_id = \"3f3139a1-c4fb-4ca5-81b1-26c651eebd5d\"  # <-- REPLACE THIS\n",
    "        bucketname = \"textextraction-donotdelete-pr-nh2q6azrylxq1a\"  # <-- REPLACE THIS\n",
    "\n",
    "        document_reference = DataConnection(\n",
    "            connection_asset_id=connection_asset_id,\n",
    "            location=S3Location(bucket=bucketname, path=source_file_name)\n",
    "        )\n",
    "\n",
    "        results_reference = DataConnection(\n",
    "            connection_asset_id=connection_asset_id,\n",
    "            location=S3Location(bucket=bucketname, path=results_file_name)\n",
    "        )\n",
    "\n",
    "        document_reference.set_client(wx_client)\n",
    "        results_reference.set_client(wx_client)\n",
    "\n",
    "        try:\n",
    "            # Create extraction job\n",
    "            details = extraction.run_job(\n",
    "                document_reference=document_reference,\n",
    "                results_reference=results_reference,\n",
    "                steps=steps,\n",
    "                results_format=\"markdown\"\n",
    "            )\n",
    "\n",
    "            extraction_job_id = extraction.get_id(extraction_details=details)\n",
    "            print(\"\\n\" + source_file_name + \" - \" + extraction_job_id)\n",
    "\n",
    "            while True:\n",
    "                status_json = extraction.get_job_details(extraction_id=extraction_job_id)\n",
    "                status = status_json['entity']['results']['status']\n",
    "                print(status)\n",
    "                if status == \"failed\":\n",
    "                    print(status_json)\n",
    "                    break\n",
    "                if status != \"completed\":\n",
    "                    time.sleep(5)\n",
    "                else:\n",
    "                    break\n",
    "\n",
    "            if status == \"completed\":\n",
    "                final_results_reference = extraction.get_results_reference(extraction_id=extraction_job_id)\n",
    "                filename = source_file_name.replace(\"pdf\", \"md\")\n",
    "                final_results_reference.download(results_path + \"/\" + filename)\n",
    "                print(\"saved as \" + filename)\n",
    "\n",
    "        except Exception as e:\n",
    "            print(\"error: \", e)\n",
    "\n",
    "    return \"done\"\n"
   ]
  },
  {
   "cell_type": "code",
   "execution_count": 80,
   "metadata": {
    "id": "9cd447cf-243c-47bb-ac2f-52f3e21dedea"
   },
   "outputs": [],
   "source": [
    "# calling text_extraction function\n",
    "\n",
    "extraction = TextExtractions(api_client=wx_client, project_id=project_id)\n",
    "\n",
    "steps = {TextExtractionsMetaNames.OCR: {'languages_list': ['en']},\n",
    "        TextExtractionsMetaNames.TABLE_PROCESSING: {'enabled': True}}"
   ]
  },
  {
   "cell_type": "code",
   "execution_count": null,
   "metadata": {
    "id": "bdb09cd1-0c81-4cef-975d-7a40d77fc36b"
   },
   "outputs": [],
   "source": [
    "file_names = [\"Paper-IUGRC-1021.pdf\"]\n",
    "results_path = \"./output\"\n",
    "\n",
    "text_extraction(file_names, extraction, steps, results_path)\n"
   ]
  },
  {
   "cell_type": "code",
   "execution_count": null,
   "metadata": {
    "id": "ba99b6d8-f666-45c1-802b-097486699cb7"
   },
   "outputs": [],
   "source": []
  }
 ],
 "metadata": {
  "kernelspec": {
   "display_name": "Python 3.11",
   "language": "python",
   "name": "python3"
  },
  "language_info": {
   "codemirror_mode": {
    "name": "ipython",
    "version": 3
   },
   "file_extension": ".py",
   "mimetype": "text/x-python",
   "name": "python",
   "nbconvert_exporter": "python",
   "pygments_lexer": "ipython3",
   "version": "3.11.9"
  }
 },
 "nbformat": 4,
 "nbformat_minor": 4
}
